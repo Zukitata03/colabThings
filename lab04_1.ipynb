{
  "nbformat": 4,
  "nbformat_minor": 0,
  "metadata": {
    "colab": {
      "provenance": [],
      "mount_file_id": "1bMVSwyHIRsHL8AVXN8crUVUehgOJTOxq",
      "authorship_tag": "ABX9TyNecBHJHaA1uUdHLudGSxrV"
    },
    "kernelspec": {
      "name": "python3",
      "display_name": "Python 3"
    },
    "language_info": {
      "name": "python"
    }
  },
  "cells": [
    {
      "cell_type": "code",
      "execution_count": 18,
      "metadata": {
        "id": "uNyKQhjvxneU",
        "colab": {
          "base_uri": "https://localhost:8080/"
        },
        "outputId": "9fdeffdc-0e80-4df6-9ab4-602d71e06b31"
      },
      "outputs": [
        {
          "output_type": "execute_result",
          "data": {
            "text/plain": [
              "True"
            ]
          },
          "metadata": {},
          "execution_count": 18
        }
      ],
      "source": [
        "import random\n",
        "import cv2\n",
        "import numpy as np\n",
        "\n",
        "def add_noise(img):\n",
        "\n",
        "    rows, cols = img.shape[:2]\n",
        "\n",
        "    num_pixels = random.randint(1, 20000)\n",
        "    pepper_ratio = 0.5 #Balance ratio of salt and pepper\n",
        "    noise_values = [0] * int(pepper_ratio * num_pixels) + [255] * (num_pixels - int(pepper_ratio * num_pixels))\n",
        "    indices = random.sample(range(rows * cols), num_pixels)\n",
        "\n",
        "    img_flat = img.flatten()\n",
        "    img_flat[indices] = noise_values\n",
        "\n",
        "    return img_flat.reshape((rows, cols))\n",
        "\n",
        "# Load image in grayscale mode\n",
        "img = cv2.imread('barbara.png', cv2.IMREAD_GRAYSCALE)\n",
        "\n",
        "noisy_image = add_noise(img)\n",
        "cv2.imwrite('addsalt.jpg', noisy_image)\n"
      ]
    },
    {
      "cell_type": "code",
      "source": [
        "import cv2\n",
        "import numpy as np\n",
        "\n",
        "def add_gaussian_noise(img, mean=0, sigma=25):\n",
        "\n",
        "    row, col = img.shape[:2]\n",
        "    gauss = np.random.normal(mean, sigma, (row, col))\n",
        "    noisy = np.clip(img + gauss.reshape(row, col), 0, 255).astype(np.uint8)\n",
        "\n",
        "    return noisy\n",
        "\n",
        "# Load image in grayscale mode\n",
        "img = cv2.imread('barbara.png', cv2.IMREAD_GRAYSCALE)\n",
        "\n",
        "# Add Gaussian noise and store the modified image\n",
        "noisy_image = add_gaussian_noise(img)\n",
        "cv2.imwrite('gaussian_noise.jpg', noisy_image)\n"
      ],
      "metadata": {
        "colab": {
          "base_uri": "https://localhost:8080/"
        },
        "id": "i08vvuE555rZ",
        "outputId": "bad61144-021b-4572-af52-d47ea4f8f0e9"
      },
      "execution_count": 19,
      "outputs": [
        {
          "output_type": "execute_result",
          "data": {
            "text/plain": [
              "True"
            ]
          },
          "metadata": {},
          "execution_count": 19
        }
      ]
    },
    {
      "cell_type": "code",
      "source": [
        "import cv2\n",
        "import numpy as np\n",
        "\n",
        "def add_noise(img, scale=0.5):\n",
        "\n",
        "    row, col = img.shape[:2]\n",
        "    speckle = np.random.randn(row, col) * scale\n",
        "    noisy = np.clip(img + img * speckle.reshape(row, col), 0, 255).astype(np.uint8)\n",
        "\n",
        "    return noisy\n",
        "\n",
        "# Load image in grayscale mode\n",
        "img = cv2.imread('barbara.png', cv2.IMREAD_GRAYSCALE)\n",
        "\n",
        "# Add speckle noise and store the modified image\n",
        "noisy_image = add_speckle_noise(img)\n",
        "cv2.imwrite('speckle_noise.jpg', noisy_image)"
      ],
      "metadata": {
        "colab": {
          "base_uri": "https://localhost:8080/"
        },
        "id": "3S6BM8WB6RD1",
        "outputId": "952150e2-74b6-4a6f-e68c-5a45e4853af8"
      },
      "execution_count": 21,
      "outputs": [
        {
          "output_type": "execute_result",
          "data": {
            "text/plain": [
              "True"
            ]
          },
          "metadata": {},
          "execution_count": 21
        }
      ]
    }
  ]
}